{
 "cells": [
  {
   "cell_type": "code",
   "execution_count": null,
   "metadata": {},
   "outputs": [],
   "source": [
    "import re\n",
    "\n",
    "def clean_words(text):\n",
    "    # remove html markup\n",
    "    text = re.sub(\"(<.*?>)\",\"\",text)\n",
    "\n",
    "    # remove non-ascii and digits\n",
    "    text = re.sub(\"(\\W|\\d+)\",\" \",text)\n",
    "\n",
    "    # remove whitespace\n",
    "    text = text.strip()\n",
    "    return text\n",
    "    "
   ]
  }
 ],
 "metadata": {
  "language_info": {
   "name": "python"
  },
  "orig_nbformat": 4
 },
 "nbformat": 4,
 "nbformat_minor": 2
}
