{
 "cells": [
  {
   "cell_type": "markdown",
   "metadata": {},
   "source": [
    "# python 模拟面试试题\n",
    "\n",
    "## 10.03\n",
    "### 1.Python3中，已知列表a = [2,3]，则下列程序结果是 \n",
    "         print(a*2)\n",
    "\n",
    "- 答案：\n",
    "在Python3中对于数组、字符串的 * 表示对原数组、字符串的复制，所以 a * 2 表示对列表a的复制，结果为 [2,3,2,3]\n",
    "而且在Python3中字符串、列表和元组支持此种方法复制数据，字典和集合不行\n",
    "\n",
    "\n",
    "### 2 python变量的查找顺序为（）\n",
    "\n",
    "局部作用域>外部嵌套作用域>全局作用域>内置模块作用域a\n",
    "\n",
    "### 3. 在Python3中。程序语句结果为：\n",
    "        strs = 'abbacabb'\n",
    "        print(strs.strip('ab'))\n",
    "\n",
    "\n",
    "    答： str.strip（'ab'）是将括号里面的字符拆解，并删除首尾符合的字符，一直删除直至没有。 本题则是收尾删除'a','b'字符，最后剩下'c' str.lstrip（'ab'）是删除首端字符 str.rstrip（'ab'）删除尾端字符\n",
    "\n",
    "### 5 执行以下程序，输出结果为（）\n",
    "\n",
    "    sizes = ['S','M']\n",
    "    colors = ['white','black']\n",
    "    shirts = [(size,color) for color in colors for size in sizes]\n",
    "    print(shirts)\n",
    "\n",
    "*         [('S', 'white'), ('M', 'white'), ('S', 'black'), ('M', 'black')]\n",
    "\n",
    "\n",
    "\n",
    "### 在python3中，元组的 “*” 运算也表示元组复制组合\n",
    "\n",
    "### \n",
    "\n",
    "### 5 \n",
    "python divmod()函数把除数和余数运算结果结合起来\n",
    "Python dict.fromkeys(seq[, value]) 函数用于创建一个新字典，以序列 seq 中元素做字典的键，value 为字典所有键对应的初始值。\n",
    "\n",
    "python find() find：找到返回第一个位置索引，找不到返回-1 index：找到返回第一个位置索引，找不到报ValueError\n",
    "find 和rfind 在查不到的时候-1 而index 和rindex在查不到时都返回value error 所以编程时建议使用find\n",
    "\n",
    "\"r\",\"w\",\"a\",\"rb\",\"wb\",\"ab\"：指定对文件打开方式即文件内容操作方式，即只读，可写，追加，二进制读，二进制写，二进制追加"
   ]
  },
  {
   "cell_type": "code",
   "execution_count": null,
   "metadata": {},
   "outputs": [],
   "source": []
  }
 ],
 "metadata": {
  "kernelspec": {
   "display_name": "Python 3.7.9 ('venvDjango3_2': venv)",
   "language": "python",
   "name": "python3"
  },
  "language_info": {
   "name": "python",
   "version": "3.7.9"
  },
  "orig_nbformat": 4,
  "vscode": {
   "interpreter": {
    "hash": "7f9b5eb72bd52ab152bf17222f55afd76e790ce80ab1785c1a1d535021571270"
   }
  }
 },
 "nbformat": 4,
 "nbformat_minor": 2
}
