{
 "cells": [
  {
   "cell_type": "markdown",
   "metadata": {},
   "source": [
    "# 这里使用的环境路径是\n",
    "#  E:\\SOurce\\python\\jupyterNotebook\\venv\\venvDatastruct"
   ]
  },
  {
   "cell_type": "code",
   "execution_count": 8,
   "metadata": {},
   "outputs": [
    {
     "name": "stdout",
     "output_type": "stream",
     "text": [
      "选择排序前:\n",
      "-3-5-2-8-7-9-4-6-1\n",
      "选择排序后:\n",
      "-1-2-3-4-5-6-7-8-9"
     ]
    }
   ],
   "source": [
    "\"\"\"1。选择排序\n",
    "思路：给列表，将列表第一个元素假定为最小，将最小元素与第二个元素进行比较，选择最小元素与其他元素进行比较。\n",
    "\"\"\"\n",
    "def select_sort(lists):\n",
    "    count = len(lists)\n",
    "    for i in range(count):\n",
    "        min = i\n",
    "        for j in range(i+1, count):\n",
    "            if lists[j] < lists[min]:\n",
    "                min = j\n",
    "        lists[min], lists[i] = lists[i],lists[min]\n",
    "    return lists\n",
    "\n",
    "if __name__ == '__main__':\n",
    "    lists = [3,5,2,8,7,9,4,6,1]\n",
    "    print('选择排序前:')\n",
    "    for i in (lists):\n",
    "        print(\"-%d\" % i,end=\"\")\n",
    "    print('\\n选择排序后:')\n",
    "    for i in (select_sort(lists)):\n",
    "        print(\"-%d\" % i,end=\"\")"
   ]
  },
  {
   "cell_type": "code",
   "execution_count": 11,
   "metadata": {},
   "outputs": [
    {
     "name": "stdout",
     "output_type": "stream",
     "text": [
      "插入排序前:\n",
      "-3-5-2-8-7-9-4-6-1\n",
      "插入排序后:\n",
      "-1-2-3-4-5-6-7-8-9"
     ]
    }
   ],
   "source": [
    "\"\"\"2.插入排序\n",
    "思路：假定第一个记录自成有序序列，其余记录为无序序列；接着从第二个记录开始，按照记录的大小依次将当前记录插入到其之前的有序序列中，值最后一个记录插入到有序序列\n",
    "\"\"\"\n",
    "def insert_sort(lists):\n",
    "    count = len(lists)\n",
    "    for i in range(1, count):\n",
    "        key = lists[i]\n",
    "        j = i -1\n",
    "        while j >= 0:\n",
    "            if lists[j] > key:\n",
    "                lists[j+1] = lists[j]\n",
    "                lists[j] = key\n",
    "            j -= 1\n",
    "    return lists\n",
    "\n",
    "if __name__ == '__main__':\n",
    "    lists = [3,5,2,8,7,9,4,6,1]\n",
    "    print('插入排序前:')\n",
    "    for i in (lists):\n",
    "        print(\"-%d\" % i,end=\"\")\n",
    "    print('\\n插入排序后:')\n",
    "    for i in (insert_sort(lists)):\n",
    "        print(\"-%d\" % i,end=\"\")"
   ]
  },
  {
   "cell_type": "code",
   "execution_count": 13,
   "metadata": {},
   "outputs": [
    {
     "name": "stdout",
     "output_type": "stream",
     "text": [
      "冒泡排序前:\n",
      "-31-52-27-86-74-95-42-67-18-99-75-43-56\n",
      "冒泡排序后:\n",
      "-18-27-31-42-43-52-56-67-74-75-86-95-99"
     ]
    }
   ],
   "source": [
    "\"\"\"3.冒泡排序\n",
    "思路：给定n个记录，从第一个记录开始依次对相邻的两个记录进行比较， 当前面的记录大于后面的记录时，交换器位置， \n",
    "进行一轮比较厚和换位后，n个记录中的最大记录将位于第n位；然后对前（n-1）个记录进行第二轮比较；重复该过程直到进行比较的记录只剩一个为止。\n",
    "\"\"\"\n",
    "\n",
    "def bubble_sort(lists):\n",
    "    count = len(lists)\n",
    "    for i in range(len(lists)-1):\n",
    "        for j in range(len(lists)-i -1 ):\n",
    "            if lists[j] > lists[j+1]:\n",
    "                lists[j], lists[j+1] = lists[j+1],lists[j]\n",
    "\n",
    "    return lists\n",
    "\n",
    "if __name__ == '__main__':\n",
    "    lists = [31,52,27,86,74,95,42,67,18,99,75,43,56]\n",
    "    print('冒泡排序前:')\n",
    "    for i in (lists):\n",
    "        print(\"-%d\" % i,end=\"\")\n",
    "    print('\\n冒泡排序后:')\n",
    "    for i in (bubble_sort(lists)):\n",
    "        print(\"-%d\" % i,end=\"\")"
   ]
  },
  {
   "cell_type": "code",
   "execution_count": 16,
   "metadata": {},
   "outputs": [
    {
     "name": "stdout",
     "output_type": "stream",
     "text": [
      "归并排序前:\n",
      "-31-52-27-86-74-95-42-67-18-99-75-43-56\n",
      "归并排序后:\n",
      "-18-27-31-42-43-52-56-67-74-75-86-95-99"
     ]
    }
   ],
   "source": [
    "\"\"\"4.归并排序\n",
    "思路：利用递归和分治技术将数据序列划分位越来越小的半子表，再对半子表排序，最后再用递归步骤将排好序的板子表合并成越来越大的有序序列。\n",
    "具体原理：对于给定的一组记录（假设共有n个记录）， 首先将每两个相邻的长度为1的子序列进行归并，得到n/2 (向上取整) 个长度为2或1的有序子序列，\n",
    "再将其两两归并，反复执行此过程，直到得到一个有序序列为止。\n",
    "\"\"\"\n",
    "def merge(left,right):\n",
    "    i,j = 0,0\n",
    "    result = []\n",
    "    while i < len(left) and j <len(right):\n",
    "        if left[i] <= right[j]:\n",
    "            result.append(left[i])\n",
    "            i += 1\n",
    "        else:\n",
    "            result.append(right[j])\n",
    "            j += 1\n",
    "    result += left[i:]\n",
    "    result += right[j:]\n",
    "    return result\n",
    "\n",
    "def merge_sort(lists):\n",
    "    if len(lists) <=1:\n",
    "        return lists\n",
    "    num = len(lists) // 2\n",
    "    left = merge_sort(lists[:num])\n",
    "    right = merge_sort(lists[num:])\n",
    "    \n",
    "    return merge(left,right)\n",
    "\n",
    "if __name__ == '__main__':\n",
    "    lists = [31,52,27,86,74,95,42,67,18,99,75,43,56]\n",
    "    print('归并排序前:')\n",
    "    for i in (lists):\n",
    "        print(\"-%d\" % i,end=\"\")\n",
    "    print('\\n归并排序后:')\n",
    "    for i in (merge_sort(lists)):\n",
    "        print(\"-%d\" % i,end=\"\")\n"
   ]
  },
  {
   "cell_type": "code",
   "execution_count": 18,
   "metadata": {},
   "outputs": [
    {
     "name": "stdout",
     "output_type": "stream",
     "text": [
      "快速排序前:\n",
      "-31-52-27-86-74-95-42-67-18-99-75-43-56\n",
      "快速排序后:\n",
      "-18-27-31-86-74-95-42-67-52-99-75-43-56"
     ]
    }
   ],
   "source": [
    "\"\"\" 5.快速排序\n",
    "思想：把大的拆成小的，小的再拆成更小的。\n",
    "原理：对于一组给定的记录，通过一趟排序后，将原序列分为两部分，其中前部分的所有记录均比后部分的所有记录小，\n",
    "    然后再依次对前后两部分的记录进行快速排序，递归该过程，直到序列中的所有记录均有序为止。\n",
    "具体算法步骤：\n",
    "    1)分解：将输入的序列array[m,...,n] 划分为两个非空子序列 array[m,...,k] 和 array[k+1,...,n], 使array[m,...,k] 中任一元素的值不大于array[k+1,...,n] 中任一元素的值。\n",
    "    2)递归求解：通过递归调用快速排序算法分别对array[m,...,k] 和 array[k+1,...,n]进行排序\n",
    "    3)合并：在array[m,...,k] he array[k+1,...,n]都排好序后，不执行即完成。\n",
    "\"\"\"\n",
    "\n",
    "def quick_sort(lists,left,right):\n",
    "    if left >= right:\n",
    "        return lists\n",
    "    key = lists[left]\n",
    "    low = key\n",
    "    high = right\n",
    "    while left < right:\n",
    "        while left < right and lists[right] >= key:\n",
    "            right -= 1\n",
    "        lists[left] = lists[right]\n",
    "        while left < right and lists[left] <= key:\n",
    "            left += 1\n",
    "        lists[right] = lists[left]\n",
    "\n",
    "    lists[right] = key\n",
    "    quick_sort(lists, low,left-1)\n",
    "    quick_sort(lists,left+1, right)\n",
    "    return lists\n",
    "\n",
    "if __name__ == \"__main__\":\n",
    "    lists = [31,52,27,86,74,95,42,67,18,99,75,43,56]\n",
    "    print('快速排序前:')\n",
    "    for i in (lists):\n",
    "        print(\"-%d\" % i,end=\"\")\n",
    "    print('\\n快速排序后:')\n",
    "    for i in (quick_sort(lists,0,len(lists)-1)):\n",
    "        print(\"-%d\" % i,end=\"\")\n",
    "\n"
   ]
  },
  {
   "cell_type": "code",
   "execution_count": 19,
   "metadata": {},
   "outputs": [
    {
     "name": "stdout",
     "output_type": "stream",
     "text": [
      "希尔排序前:\n",
      "-31-52-27-86-74-95-42-67-18-99-75-43-56\n",
      "希尔排序后:\n",
      "-18-27-31-42-43-52-56-67-74-75-86-95-99"
     ]
    }
   ],
   "source": [
    "\"\"\"6.希尔排序\n",
    "原理：将待排序列元素分为多个序列，使得每个子序列的元素个数相对较少，对各个子序列分别进行直接插入排序，\n",
    "        待整个待排序序列基本有序后，再对所有元素进行依次插入排序\n",
    "具体步骤：\n",
    "\"\"\"\n",
    "\n",
    "def shell_sort(lists):\n",
    "    count = len(lists)\n",
    "    step = 2\n",
    "    group = count//step\n",
    "\n",
    "    while group >0:\n",
    "        for i in range(0,group):\n",
    "            j = i + group\n",
    "            while j < count:\n",
    "                k = j - group\n",
    "                key = lists[j]\n",
    "                while k >= 0:\n",
    "                    if lists[k] > key:\n",
    "                        lists[k+group] = lists[k]\n",
    "                        lists[k] = key\n",
    "                    k -= group\n",
    "                j += group\n",
    "        group //= step\n",
    "    return lists\n",
    "\n",
    "if __name__ == \"__main__\":\n",
    "    lists = [31,52,27,86,74,95,42,67,18,99,75,43,56]\n",
    "    print('希尔排序前:')\n",
    "    for i in (lists):\n",
    "        print(\"-%d\" % i,end=\"\")\n",
    "    print('\\n希尔排序后:')\n",
    "    for i in (shell_sort(lists)):\n",
    "        print(\"-%d\" % i,end=\"\")\n"
   ]
  },
  {
   "cell_type": "code",
   "execution_count": 24,
   "metadata": {},
   "outputs": [
    {
     "name": "stdout",
     "output_type": "stream",
     "text": [
      "堆排序前:\n",
      "-31-52-27-86-74-95-42-67-18-99-75-43-56\n",
      "堆排序后:\n",
      "-18-27-31-42-43-52-56-67-74-75-86-95-99"
     ]
    }
   ],
   "source": [
    "\"\"\"7.堆排序\n",
    "思路：\n",
    "基本步骤：\n",
    "\n",
    "\"\"\"\n",
    "def adjust_heap(lists, i, size):\n",
    "    lchild = 2 * i + 1\n",
    "    rchild = 2 * i + 2\n",
    "    maxs = i\n",
    "    if i < size // 2:\n",
    "        if lchild < size and lists[lchild] > lists[maxs]:\n",
    "            maxs = lchild\n",
    "        if rchild < size and lists[rchild] > lists[maxs]:\n",
    "            maxs = rchild\n",
    "        if maxs != i:\n",
    "            lists[maxs], lists[i] = lists[i], lists[maxs]\n",
    "            adjust_heap(lists,maxs, size)\n",
    "\n",
    "def build_heap(lists, size):\n",
    "    for i in range(0, (size//2))[::-1]:\n",
    "        adjust_heap(lists, i, size)\n",
    "\n",
    "def heap_sort(lists):\n",
    "    size = len(lists)\n",
    "    build_heap(lists,size)\n",
    "    for i in range(0,size)[::-1]:\n",
    "        lists[0],lists[i] = lists[i], lists[0]\n",
    "        adjust_heap(lists,0,i)\n",
    "\n",
    "if __name__ == \"__main__\":\n",
    "    lists = [31,52,27,86,74,95,42,67,18,99,75,43,56]\n",
    "    print('堆排序前:')\n",
    "    for i in (lists):\n",
    "        print(\"-%d\" % i,end=\"\")\n",
    "    print('\\n堆排序后:')\n",
    "    heap_sort(lists)\n",
    "    for i in lists:\n",
    "        print(\"-%d\" % i,end=\"\")"
   ]
  },
  {
   "cell_type": "code",
   "execution_count": 25,
   "metadata": {},
   "outputs": [
    {
     "name": "stdout",
     "output_type": "stream",
     "text": [
      "基数排序前:\n",
      "-31-52-27-86-74-95-42-67-18-99-75-43-56\n",
      "基数排序后:\n",
      "-18-27-31-42-43-52-56-67-74-75-86-95-99"
     ]
    }
   ],
   "source": [
    "\"\"\"8.基数排序\n",
    "\n",
    "\"\"\"\n",
    "import math\n",
    "\n",
    "def radix_sort(lists,radix = 10):\n",
    "    k = int(math.ceil(math.log(max(lists), radix)))\n",
    "    bucket = [[] for i in range(radix)]\n",
    "    for i in range(1,k+1):\n",
    "        for j in lists:\n",
    "            bucket[j//(radix**(i-1)) % (radix**i)].append(j)\n",
    "        del lists[:]\n",
    "        for z in bucket:\n",
    "            lists += z\n",
    "            del z[:]\n",
    "    return lists\n",
    "    \n",
    "\n",
    "if __name__ == \"__main__\":\n",
    "    lists = [31,52,27,86,74,95,42,67,18,99,75,43,56]\n",
    "    print('基数排序前:')\n",
    "    for i in (lists):\n",
    "        print(\"-%d\" % i,end=\"\")\n",
    "    print('\\n基数排序后:')\n",
    "    for i in (radix_sort(lists)):\n",
    "        print(\"-%d\" % i,end=\"\")\n"
   ]
  }
 ],
 "metadata": {
  "kernelspec": {
   "display_name": "Python 3.7.9 ('venvPure2': venv)",
   "language": "python",
   "name": "python3"
  },
  "language_info": {
   "codemirror_mode": {
    "name": "ipython",
    "version": 3
   },
   "file_extension": ".py",
   "mimetype": "text/x-python",
   "name": "python",
   "nbconvert_exporter": "python",
   "pygments_lexer": "ipython3",
   "version": "3.7.9"
  },
  "orig_nbformat": 4,
  "vscode": {
   "interpreter": {
    "hash": "e6c785248c5c2f00740caed7a1c16ac00ea83435beb7d8a9b578797bd2335a29"
   }
  }
 },
 "nbformat": 4,
 "nbformat_minor": 2
}
